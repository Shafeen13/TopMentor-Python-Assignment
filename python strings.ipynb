{
 "cells": [
  {
   "cell_type": "code",
   "execution_count": 1,
   "id": "7dc82487",
   "metadata": {},
   "outputs": [
    {
     "name": "stdout",
     "output_type": "stream",
     "text": [
      "Tutor Joes\n",
      "Length of String= 10\n"
     ]
    }
   ],
   "source": [
    "# 1) calculating the length of string\n",
    "str=input()\n",
    "count=0\n",
    "for i in str:\n",
    "    count+=1\n",
    "    \n",
    "print(\"Length of String=\",count)"
   ]
  },
  {
   "cell_type": "code",
   "execution_count": 2,
   "id": "92ed5676",
   "metadata": {},
   "outputs": [
    {
     "name": "stdout",
     "output_type": "stream",
     "text": [
      "tutorjoes\n",
      "{'t': 2, 'u': 1, 'o': 2, 'r': 1, 'j': 1, 'e': 1, 's': 1}\n"
     ]
    }
   ],
   "source": [
    "# 2) Count the number of characters in a string\n",
    "\n",
    "str=input()\n",
    "dict={}\n",
    "for n in str:\n",
    "    keys=dict.keys()\n",
    "    if n in keys:\n",
    "        dict[n]+=1\n",
    "    else:\n",
    "        dict[n]=1\n",
    "print(dict)\n",
    "    "
   ]
  },
  {
   "cell_type": "code",
   "execution_count": 3,
   "id": "b3706a0c",
   "metadata": {},
   "outputs": [
    {
     "name": "stdout",
     "output_type": "stream",
     "text": [
      "Given String=tutor joes\n",
      "After String= tu@or joes\n"
     ]
    }
   ],
   "source": [
    "# 3) first char have been changed to '@', except the first char itself.\n",
    "\n",
    "str=input(\"Given String=\")\n",
    "char=str[0]\n",
    "str=str.replace(char,'@')\n",
    "str=char+str[1:]\n",
    "print(\"After String=\",str)"
   ]
  },
  {
   "cell_type": "code",
   "execution_count": 4,
   "id": "235ea7f2",
   "metadata": {},
   "outputs": [
    {
     "name": "stdout",
     "output_type": "stream",
     "text": [
      "Before Swap=abc xyz\n",
      "After Swap= xyc abz\n"
     ]
    }
   ],
   "source": [
    "# 4) Swaping first two character of two strings\n",
    "s1,s2=input(\"Before Swap=\").split()\n",
    "p1=s2[:2]+s1[2:]\n",
    "p2=s1[:2]+s2[2:]\n",
    "print(\"After Swap=\",p1,p2)"
   ]
  },
  {
   "cell_type": "code",
   "execution_count": 5,
   "id": "4c94c810",
   "metadata": {},
   "outputs": [
    {
     "name": "stdout",
     "output_type": "stream",
     "text": [
      "Before Remove=Tutor Joes\n",
      "Remove character= t\n",
      "After Remove= Tuor Joes\n"
     ]
    }
   ],
   "source": [
    "# 5) remove the nth index character from a nonempty string.\n",
    "s=input(\"Before Remove=\")\n",
    "n=2\n",
    "s1=s[:n]\n",
    "s2=s[n+1:]\n",
    "print(\"Remove character=\",s[n])\n",
    "print(\"After Remove=\",s1+s2)\n"
   ]
  },
  {
   "cell_type": "code",
   "execution_count": 6,
   "id": "b18b9f03",
   "metadata": {},
   "outputs": [
    {
     "name": "stdout",
     "output_type": "stream",
     "text": [
      "Before Exchange=Python\n",
      "After Exchange= nythoP\n"
     ]
    }
   ],
   "source": [
    "# 6) new string where the first and last chars have been exchanged\n",
    "s=input(\"Before Exchange=\")\n",
    "s1=s[-1]+s[1:-1]+s[0]\n",
    "print(\"After Exchange=\",s1)\n"
   ]
  },
  {
   "cell_type": "code",
   "execution_count": 7,
   "id": "6ecbe442",
   "metadata": {},
   "outputs": [
    {
     "name": "stdout",
     "output_type": "stream",
     "text": [
      "String= Computer Education\n",
      "Remove Odd Index Char=  Cmue dcto\n"
     ]
    }
   ],
   "source": [
    "# 7) remove the characters which have odd index values of a given string\n",
    "str=input(\"String= \")\n",
    "odd_str=\"\"\n",
    "for i in range(len(str)):\n",
    "    if(i%2==0):\n",
    "        odd_str=odd_str+str[i]\n",
    "print(\"Remove Odd Index Char= \",odd_str)"
   ]
  },
  {
   "cell_type": "code",
   "execution_count": 1,
   "id": "73b16b4b",
   "metadata": {},
   "outputs": [
    {
     "name": "stdout",
     "output_type": "stream",
     "text": [
      "string= To change the overall look your document. To change the look available in the gallery\n",
      "{'To': 2, 'change': 2, 'the': 3, 'overall': 1, 'look': 2, 'your': 1, 'document.': 1, 'available': 1, 'in': 1, 'gallery': 1}\n"
     ]
    }
   ],
   "source": [
    "# 8) count the occurrences of each word in a given sentence\n",
    "str=input(\"string= \").split()\n",
    "count=dict()\n",
    "for i in str:\n",
    "    if i in count:\n",
    "        count[i]+=1\n",
    "    else:\n",
    "        count[i]=1\n",
    "print(count)"
   ]
  },
  {
   "cell_type": "code",
   "execution_count": 10,
   "id": "e2e13732",
   "metadata": {},
   "outputs": [
    {
     "name": "stdout",
     "output_type": "stream",
     "text": [
      "Enter the string= Tutor Joes\n",
      "Upper case=  TUTOR JOES\n",
      "Lower case=  tutor joes\n"
     ]
    }
   ],
   "source": [
    "# 9) takes input from the user and displays that input back in upper and lower cases.\n",
    "str=input(\"Enter the string= \")\n",
    "u=str.upper()\n",
    "l=str.lower()\n",
    "print(\"Upper case= \",u)\n",
    "print(\"Lower case= \",l)"
   ]
  },
  {
   "cell_type": "code",
   "execution_count": 11,
   "id": "d673b066",
   "metadata": {},
   "outputs": [
    {
     "name": "stdout",
     "output_type": "stream",
     "text": [
      "Enter String= Computer\n",
      "retupmoC\n"
     ]
    }
   ],
   "source": [
    "# 10) to reverses a string if it's length is a multiple of 4.\n",
    "str=input(\"Enter String= \")\n",
    "rev=\" \"\n",
    "for i in range(len(str)):\n",
    "    if (i%4==0):\n",
    "        rev=str[::-1]\n",
    "print(rev)"
   ]
  },
  {
   "cell_type": "code",
   "execution_count": 12,
   "id": "a674842e",
   "metadata": {},
   "outputs": [
    {
     "name": "stdout",
     "output_type": "stream",
     "text": [
      "Enter String= Science\n",
      "Science\n"
     ]
    }
   ],
   "source": [
    "str=input(\"Enter String= \")\n",
    "rev=\" \"\n",
    "for i in range(len(str)):\n",
    "    if (i%4==0):\n",
    "        rev=str[::-1]\n",
    "    else:\n",
    "        rev=str\n",
    "print(rev)"
   ]
  },
  {
   "cell_type": "code",
   "execution_count": 13,
   "id": "ba356f76",
   "metadata": {},
   "outputs": [
    {
     "name": "stdout",
     "output_type": "stream",
     "text": [
      "Enter the string=ComPuteR\n",
      "COMPUTER\n",
      "ComPuteR\n"
     ]
    }
   ],
   "source": [
    "# 11) convert a given string to all uppercase if it contains at least 2 uppercase characters in the first 4 characters.\n",
    "str=input(\"Enter the string=\")\n",
    "n=0\n",
    "for i in str[:4]:\n",
    "    if i.upper()==i:\n",
    "        n+=1\n",
    "if n>=2:\n",
    "    print(str.upper())\n",
    "print(str)"
   ]
  },
  {
   "cell_type": "code",
   "execution_count": 14,
   "id": "6d5849cf",
   "metadata": {},
   "outputs": [
    {
     "name": "stdout",
     "output_type": "stream",
     "text": [
      "Enter the string=Computer\n",
      "computer\n"
     ]
    }
   ],
   "source": [
    "str=input(\"Enter the string=\")\n",
    "n=0\n",
    "for i in str[:4]:\n",
    "    if i.upper()==i:\n",
    "        n+=1\n",
    "if n>=2:\n",
    "    print(str.upper())\n",
    "print(str.lower())"
   ]
  },
  {
   "cell_type": "code",
   "execution_count": 1,
   "id": "7fa18fe6",
   "metadata": {},
   "outputs": [
    {
     "name": "stdout",
     "output_type": "stream",
     "text": [
      "Tutor\n",
      "['o', 'r', 'T', 't', 'u']\n"
     ]
    }
   ],
   "source": [
    "# 12) Python program to sort a string lexicographically.\n",
    "s=input()\n",
    "print(sorted(sorted(s), key=str.upper))"
   ]
  },
  {
   "cell_type": "code",
   "execution_count": 16,
   "id": "c9746105",
   "metadata": {},
   "outputs": [
    {
     "name": "stdout",
     "output_type": "stream",
     "text": [
      "\n",
      "Tutor \n",
      "Joes \n",
      "Computer \n",
      "Education\n",
      "\n",
      "After Remove New Line= Tutor Joes Computer Education\n"
     ]
    }
   ],
   "source": [
    "# 13) to remove a newline in Python\n",
    "str=\"\\nTutor \\nJoes \\nComputer \\nEducation\\n\"\n",
    "print(str)\n",
    "print(\"After Remove New Line=\",\"\".join(str.splitlines()))"
   ]
  },
  {
   "cell_type": "code",
   "execution_count": 17,
   "id": "e197e356",
   "metadata": {},
   "outputs": [
    {
     "name": "stdout",
     "output_type": "stream",
     "text": [
      "Tutor Joes Computer Education\n",
      "Prefix to check=Tu\n",
      "String starts with the prefix=  True\n"
     ]
    }
   ],
   "source": [
    "# 14) to check whether a string starts with specified characters.\n",
    "str=input()\n",
    "chr=input(\"Prefix to check=\")\n",
    "print(\"String starts with the prefix= \",str.startswith(chr))"
   ]
  },
  {
   "cell_type": "code",
   "execution_count": 4,
   "id": "f5e664f3",
   "metadata": {},
   "outputs": [
    {
     "name": "stdout",
     "output_type": "stream",
     "text": [
      "\n",
      "Formatted Text(Width 35):\n",
      "\n",
      " Python is an interpreted, object-\n",
      "oriented, high-level programming\n",
      "language that can be used for a\n",
      "wide variety of applications.\n",
      "Python is a powerful general-\n",
      "purpose programming language.\n",
      "\n",
      "Formatted Text(Width 70):\n",
      "\n",
      " Python is an interpreted, object-oriented, high-level programming\n",
      "language that can be used for a wide variety of applications. Python\n",
      "is a powerful general-purpose programming language.\n"
     ]
    }
   ],
   "source": [
    "# 15)  program to display formatted text (width=35,70) as output\n",
    "import textwrap\n",
    "str='''Python is an interpreted, object-oriented, high-level programming language that can be used for a wide variety of applications. Python is a powerful general-purpose programming language.'''\n",
    "print(\"\\nFormatted Text(Width 35):\\n\\n\",textwrap.fill(str,width=35))\n",
    "print(\"\\nFormatted Text(Width 70):\\n\\n\",textwrap.fill(str,width=70))\n"
   ]
  },
  {
   "cell_type": "code",
   "execution_count": 5,
   "id": "980e5768",
   "metadata": {},
   "outputs": [
    {
     "name": "stdout",
     "output_type": "stream",
     "text": [
      "Python is an interpreted, object-oriented, high-level programming language\n",
      "that can be used for a wide variety of applications. Python is a powerful\n",
      "general-purpose programming language.\n"
     ]
    }
   ],
   "source": [
    "# 16) Python program to remove existing indentation from all of the lines in a given text.Python program to remove existing indentation from all of the lines in a given text.\n",
    "import textwrap\n",
    "str='''              Python is an interpreted, object-oriented, high-level programming language\n",
    "              that can be used for a wide variety of applications. Python is a powerful\n",
    "              general-purpose programming language.'''\n",
    "res=textwrap.dedent(str)\n",
    "print(res)"
   ]
  },
  {
   "cell_type": "code",
   "execution_count": 6,
   "id": "70e2dd2a",
   "metadata": {},
   "outputs": [
    {
     "name": "stdout",
     "output_type": "stream",
     "text": [
      "prefix to add each line = *\n",
      "Display the Result:\n",
      "\n",
      "*Python is an interpreted, object-oriented, high-level programming language\n",
      "*that can be used for a wide variety of applications. Python is a powerful\n",
      "*general-purpose programming language\n",
      "\n"
     ]
    }
   ],
   "source": [
    "# 17) program to add a prefix text to all of the lines in a string.\n",
    "import textwrap\n",
    "str='''Python is an interpreted, object-oriented, high-level programming language\n",
    "that can be used for a wide variety of applications. Python is a powerful\n",
    "general-purpose programming language\n",
    "'''\n",
    "res=textwrap.indent(str,\"*\")\n",
    "print(\"prefix to add each line = *\\nDisplay the Result:\\n\")\n",
    "print(res)"
   ]
  },
  {
   "cell_type": "code",
   "execution_count": null,
   "id": "3810e7ff",
   "metadata": {},
   "outputs": [],
   "source": []
  }
 ],
 "metadata": {
  "kernelspec": {
   "display_name": "Python 3 (ipykernel)",
   "language": "python",
   "name": "python3"
  },
  "language_info": {
   "codemirror_mode": {
    "name": "ipython",
    "version": 3
   },
   "file_extension": ".py",
   "mimetype": "text/x-python",
   "name": "python",
   "nbconvert_exporter": "python",
   "pygments_lexer": "ipython3",
   "version": "3.11.5"
  }
 },
 "nbformat": 4,
 "nbformat_minor": 5
}
