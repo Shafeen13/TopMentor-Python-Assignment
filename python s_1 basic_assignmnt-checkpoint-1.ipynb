{
 "cells": [
  {
   "cell_type": "code",
   "execution_count": 1,
   "id": "7cfe12b8",
   "metadata": {},
   "outputs": [
    {
     "name": "stdout",
     "output_type": "stream",
     "text": [
      " Hi, My name is Shafeen\n"
     ]
    }
   ],
   "source": [
    "msg=\" Hi, My name is Shafeen\"\n",
    "print(msg)"
   ]
  },
  {
   "cell_type": "code",
   "execution_count": 2,
   "id": "7f38a713",
   "metadata": {},
   "outputs": [
    {
     "name": "stdout",
     "output_type": "stream",
     "text": [
      " Hi, My name is Shafeen. I am learning python in jupyter notebook.\n"
     ]
    }
   ],
   "source": [
    "msg=\" Hi, My name is Shafeen.\"\n",
    "print(msg,\"I am learning python in jupyter notebook.\")"
   ]
  },
  {
   "cell_type": "code",
   "execution_count": 3,
   "id": "907cf130",
   "metadata": {},
   "outputs": [
    {
     "name": "stdout",
     "output_type": "stream",
     "text": [
      "hello Nazmeen! Would you like to learn some Python today?\n"
     ]
    }
   ],
   "source": [
    "name=\"Nazmeen\"\n",
    "print(\"hello\",name+\"!\",\"Would you like to learn some Python today?\")  # printing a message to nazmeen."
   ]
  },
  {
   "cell_type": "code",
   "execution_count": 4,
   "id": "26a1c05b",
   "metadata": {},
   "outputs": [
    {
     "name": "stdout",
     "output_type": "stream",
     "text": [
      "Albert Einstein said, ' A person who never made a mistake never tried anything new. '\n"
     ]
    }
   ],
   "source": [
    "quote=\"A person who never made a mistake never tried anything new.\"\n",
    "print(\"Albert Einstein said,\",\"'\",quote,\"'\")"
   ]
  },
  {
   "cell_type": "code",
   "execution_count": 5,
   "id": "0ccb2794",
   "metadata": {},
   "outputs": [
    {
     "name": "stdout",
     "output_type": "stream",
     "text": [
      "Albert Einstein once said, ' A person who never made a mistake never tried anything new. '\n"
     ]
    }
   ],
   "source": [
    "famous_person=\"Albert Einstein\"\n",
    "quote=\"A person who never made a mistake never tried anything new.\"\n",
    "print(famous_person,\"once said,\",\"'\",quote,\"'\")"
   ]
  },
  {
   "cell_type": "code",
   "execution_count": 6,
   "id": "fc494756",
   "metadata": {},
   "outputs": [
    {
     "name": "stdout",
     "output_type": "stream",
     "text": [
      "8\n",
      "8\n",
      "8\n",
      "8.0\n"
     ]
    }
   ],
   "source": [
    "print(5+3)    # Addition\n",
    "print(10-2)   # Subtraction\n",
    "print(2*4)    # Multiplication\n",
    "print(16/2)   # Division"
   ]
  },
  {
   "cell_type": "code",
   "execution_count": 7,
   "id": "94cc38f6",
   "metadata": {},
   "outputs": [
    {
     "name": "stdout",
     "output_type": "stream",
     "text": [
      "My favourite number is 7\n"
     ]
    }
   ],
   "source": [
    "n=7 \n",
    "print(\"My favourite number is\",n)"
   ]
  },
  {
   "cell_type": "code",
   "execution_count": 8,
   "id": "2aa22d61",
   "metadata": {},
   "outputs": [
    {
     "name": "stdout",
     "output_type": "stream",
     "text": [
      "fazi\n",
      "mubeena\n",
      "Harika\n"
     ]
    }
   ],
   "source": [
    "name=[\"fazi\",\"mubeena\",\"Harika\"]\n",
    "print(name[0])\n",
    "print(name[1])\n",
    "print(name[2])"
   ]
  },
  {
   "cell_type": "code",
   "execution_count": 9,
   "id": "04fa1b6b",
   "metadata": {},
   "outputs": [
    {
     "name": "stdout",
     "output_type": "stream",
     "text": [
      "hello! fazi ..., How are you?\n",
      "hello! mubeena ..., How are you?\n",
      "hello! Harika ..., How are you?\n"
     ]
    }
   ],
   "source": [
    "name=[\"fazi\",\"mubeena\",\"Harika\"]\n",
    "print(\"hello!\",name[0],\"...,\",\"How are you?\")\n",
    "print(\"hello!\",name[1],\"...,\",\"How are you?\")\n",
    "print(\"hello!\",name[2],\"...,\",\"How are you?\")"
   ]
  },
  {
   "cell_type": "code",
   "execution_count": 10,
   "id": "7789c80b",
   "metadata": {},
   "outputs": [
    {
     "name": "stdout",
     "output_type": "stream",
     "text": [
      "I would like to own a car\n",
      "I used Scooty for travelling\n"
     ]
    }
   ],
   "source": [
    "fav_trnsprt=[\"car\",\"Scooty\"]\n",
    "print(\"I would like to own a\",fav_trnsprt[0])\n",
    "print(\"I used\",fav_trnsprt[1],\"for travelling\" )"
   ]
  },
  {
   "cell_type": "code",
   "execution_count": null,
   "id": "feb99502",
   "metadata": {},
   "outputs": [],
   "source": []
  }
 ],
 "metadata": {
  "kernelspec": {
   "display_name": "Python 3 (ipykernel)",
   "language": "python",
   "name": "python3"
  },
  "language_info": {
   "codemirror_mode": {
    "name": "ipython",
    "version": 3
   },
   "file_extension": ".py",
   "mimetype": "text/x-python",
   "name": "python",
   "nbconvert_exporter": "python",
   "pygments_lexer": "ipython3",
   "version": "3.11.5"
  }
 },
 "nbformat": 4,
 "nbformat_minor": 5
}
